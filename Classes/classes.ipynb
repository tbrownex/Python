{
 "cells": [
  {
   "cell_type": "markdown",
   "metadata": {},
   "source": [
    "#### Here the a instance only prints the class-level values \"A\"\n",
    "#### While b only prints the instance values \"B\""
   ]
  },
  {
   "cell_type": "code",
   "execution_count": 4,
   "metadata": {
    "collapsed": false
   },
   "outputs": [
    {
     "name": "stdout",
     "output_type": "stream",
     "text": [
      "A-class B-instance\n",
      "A-class B-instance\n"
     ]
    }
   ],
   "source": [
    "class A:\n",
    "    def f(self):\n",
    "        return self.g()\n",
    "\n",
    "    def g(self):\n",
    "        return 'A-class'\n",
    "\n",
    "class B(A):\n",
    "    def g(self):\n",
    "        return 'B-instance'\n",
    "\n",
    "a = A()\n",
    "b = B()\n",
    "print (a.f(), b.f())\n",
    "print (a.g(), b.g())"
   ]
  },
  {
   "cell_type": "code",
   "execution_count": 1,
   "metadata": {
    "collapsed": false
   },
   "outputs": [],
   "source": [
    "class Customer(object):\n",
    "    __count = 0\n",
    "    \n",
    "    @classmethod\n",
    "    def customer_count(cls):             # This is the convention, to use \"cls\" as the parameter\n",
    "        print(\"# of Customers is: {}\").format(Customer.__count)\n",
    "        \n",
    "    def __init__(self, name, balance=0.0):\n",
    "        self.name = name\n",
    "        self.balance = balance\n",
    "        Customer.__count += 1                        # This is a protected variable (name mangling)\n",
    "\n",
    "    def withdraw(self, amount):\n",
    "        if amount > self.balance:\n",
    "            raise RuntimeError('Amount greater than available balance.')\n",
    "        self.balance -= amount\n",
    "        print(\"Balance is: {:,}\").format(self.balance)\n",
    "        return self.balance\n",
    "\n",
    "    def deposit(self, amount):\n",
    "        self.balance += amount\n",
    "        print(\"Balance is: {:,}\").format(self.balance)\n",
    "        return self.balance"
   ]
  },
  {
   "cell_type": "markdown",
   "metadata": {},
   "source": [
    "#### Create 2 customers"
   ]
  },
  {
   "cell_type": "code",
   "execution_count": 2,
   "metadata": {
    "collapsed": false
   },
   "outputs": [],
   "source": [
    "Tom = Customer('Tom Browne', 1000.0)\n",
    "Nat = Customer('Natalie Browne', 10000.0)"
   ]
  },
  {
   "cell_type": "markdown",
   "metadata": {},
   "source": [
    "#### Invoke a method using implied instance \"self\""
   ]
  },
  {
   "cell_type": "code",
   "execution_count": 3,
   "metadata": {
    "collapsed": false
   },
   "outputs": [
    {
     "name": "stdout",
     "output_type": "stream",
     "text": [
      "Balance is: 950.0\n"
     ]
    },
    {
     "data": {
      "text/plain": [
       "950.0"
      ]
     },
     "execution_count": 3,
     "metadata": {},
     "output_type": "execute_result"
    }
   ],
   "source": [
    "Tom.withdraw(50)         # sending only 1 parameter, the amount"
   ]
  },
  {
   "cell_type": "markdown",
   "metadata": {},
   "source": [
    "#### Invoke the same method, this time specifying the instance"
   ]
  },
  {
   "cell_type": "code",
   "execution_count": 4,
   "metadata": {
    "collapsed": false
   },
   "outputs": [
    {
     "name": "stdout",
     "output_type": "stream",
     "text": [
      "Balance is: 9,950.0\n"
     ]
    },
    {
     "data": {
      "text/plain": [
       "9950.0"
      ]
     },
     "execution_count": 4,
     "metadata": {},
     "output_type": "execute_result"
    }
   ],
   "source": [
    "Customer.withdraw(Nat, 50)"
   ]
  },
  {
   "cell_type": "markdown",
   "metadata": {},
   "source": [
    "#### Try to access a protected variable"
   ]
  },
  {
   "cell_type": "code",
   "execution_count": 5,
   "metadata": {
    "collapsed": false
   },
   "outputs": [],
   "source": [
    "#print(Customer.__count)               # this will fail"
   ]
  },
  {
   "cell_type": "markdown",
   "metadata": {},
   "source": [
    "#### Use a method to access the protected variable"
   ]
  },
  {
   "cell_type": "code",
   "execution_count": 7,
   "metadata": {
    "collapsed": false
   },
   "outputs": [
    {
     "name": "stdout",
     "output_type": "stream",
     "text": [
      "# of Customers is: 2\n"
     ]
    }
   ],
   "source": [
    "Tom.customer_count()\n",
    "#Customer.customer_count()     # either way will work"
   ]
  },
  {
   "cell_type": "markdown",
   "metadata": {},
   "source": [
    "#### You can cheat and get the name of the \"mangled\" variable"
   ]
  },
  {
   "cell_type": "code",
   "execution_count": 8,
   "metadata": {
    "collapsed": false
   },
   "outputs": [
    {
     "data": {
      "text/plain": [
       "<dictproxy {'_Customer__count': 2,\n",
       " '__dict__': <attribute '__dict__' of 'Customer' objects>,\n",
       " '__doc__': None,\n",
       " '__init__': <function __main__.__init__>,\n",
       " '__module__': '__main__',\n",
       " '__weakref__': <attribute '__weakref__' of 'Customer' objects>,\n",
       " 'customer_count': <function __main__.customer_count>,\n",
       " 'deposit': <function __main__.deposit>,\n",
       " 'withdraw': <function __main__.withdraw>}>"
      ]
     },
     "execution_count": 8,
     "metadata": {},
     "output_type": "execute_result"
    }
   ],
   "source": [
    "Customer.__dict__             # This will show the names of all the attributes, including name-mangled"
   ]
  },
  {
   "cell_type": "code",
   "execution_count": 10,
   "metadata": {
    "collapsed": false
   },
   "outputs": [
    {
     "name": "stdout",
     "output_type": "stream",
     "text": [
      "<unbound method Customer.customer_count>\n"
     ]
    }
   ],
   "source": [
    "print(Customer.customer_count)"
   ]
  },
  {
   "cell_type": "code",
   "execution_count": 11,
   "metadata": {
    "collapsed": false
   },
   "outputs": [
    {
     "name": "stdout",
     "output_type": "stream",
     "text": [
      "A\n",
      "C\n",
      "d\n"
     ]
    }
   ],
   "source": [
    "try:\n",
    "    print (\"A\")\n",
    "except:\n",
    "    print (\"B\")\n",
    "else:\n",
    "    print (\"C\")\n",
    "finally:\n",
    "    print (\"d\")"
   ]
  },
  {
   "cell_type": "code",
   "execution_count": 12,
   "metadata": {
    "collapsed": false
   },
   "outputs": [
    {
     "name": "stdout",
     "output_type": "stream",
     "text": [
      "A\n",
      "D\n"
     ]
    }
   ],
   "source": [
    "f()"
   ]
  },
  {
   "cell_type": "markdown",
   "metadata": {
    "collapsed": true
   },
   "source": [
    "### Methods\n",
    "#### Static and Class"
   ]
  },
  {
   "cell_type": "code",
   "execution_count": 26,
   "metadata": {
    "collapsed": true
   },
   "outputs": [],
   "source": [
    "import math\n",
    "class Pizza(object):\n",
    "    def __init__(self, radius, height):\n",
    "        self.radius = radius\n",
    "        self.height = height\n",
    " \n",
    "    @staticmethod\n",
    "    def compute_area(radius):\n",
    "         return math.pi * (radius ** 2)\n",
    " \n",
    "    @classmethod\n",
    "    def compute_volume(cls, height, radius):\n",
    "         return height * cls.compute_area(radius)\n",
    " \n",
    "    def get_volume(self):\n",
    "        return self.compute_volume(self.height, self.radius)"
   ]
  },
  {
   "cell_type": "markdown",
   "metadata": {},
   "source": [
    "##### Static and Class do not require any instances"
   ]
  },
  {
   "cell_type": "code",
   "execution_count": 27,
   "metadata": {
    "collapsed": false
   },
   "outputs": [
    {
     "data": {
      "text/plain": [
       "314.1592653589793"
      ]
     },
     "execution_count": 27,
     "metadata": {},
     "output_type": "execute_result"
    }
   ],
   "source": [
    "Pizza.compute_area(10)"
   ]
  },
  {
   "cell_type": "code",
   "execution_count": 29,
   "metadata": {
    "collapsed": false
   },
   "outputs": [
    {
     "data": {
      "text/plain": [
       "314.1592653589793"
      ]
     },
     "execution_count": 29,
     "metadata": {},
     "output_type": "execute_result"
    }
   ],
   "source": [
    "Pizza.compute_volume(1,10)"
   ]
  },
  {
   "cell_type": "markdown",
   "metadata": {},
   "source": [
    "#### Constructor: use of __new__"
   ]
  },
  {
   "cell_type": "code",
   "execution_count": 34,
   "metadata": {
    "collapsed": false
   },
   "outputs": [
    {
     "name": "stdout",
     "output_type": "stream",
     "text": [
      "start\n",
      "tom\n",
      "NEW\n",
      "INIT\n",
      "\n",
      "tom\n",
      "EXISTS\n",
      "INIT\n",
      "\n",
      "tom\n",
      "EXISTS\n",
      "INIT\n",
      "\n"
     ]
    }
   ],
   "source": [
    "class A(object):\n",
    "    _dict = dict()\n",
    "    a=type(_dict)\n",
    "\n",
    "    def __new__(cls):              # __new__ is what creates the instance\n",
    "        if 'key' in A._dict:\n",
    "            print \"EXISTS\"\n",
    "            return A._dict['key']\n",
    "        else:\n",
    "            print \"NEW\"\n",
    "            return super(A, cls).__new__(cls)\n",
    "\n",
    "    def __init__(self):           # __init__ then sets the attributes\n",
    "        print \"INIT\"\n",
    "        A._dict['key'] = self\n",
    "        print \"\"\n",
    "\n",
    "print(\"start\")\n",
    "a1 = A()\n",
    "a2 = A()\n",
    "a3 = A()"
   ]
  },
  {
   "cell_type": "code",
   "execution_count": null,
   "metadata": {
    "collapsed": true
   },
   "outputs": [],
   "source": []
  }
 ],
 "metadata": {
  "anaconda-cloud": {},
  "kernelspec": {
   "display_name": "Python [Root]",
   "language": "python",
   "name": "Python [Root]"
  },
  "language_info": {
   "codemirror_mode": {
    "name": "ipython",
    "version": 3
   },
   "file_extension": ".py",
   "mimetype": "text/x-python",
   "name": "python",
   "nbconvert_exporter": "python",
   "pygments_lexer": "ipython3",
   "version": "3.5.2"
  }
 },
 "nbformat": 4,
 "nbformat_minor": 0
}
