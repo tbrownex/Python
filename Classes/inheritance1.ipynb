{
 "cells": [
  {
   "cell_type": "markdown",
   "metadata": {},
   "source": [
    "### Create an abstract base class\n",
    "#### You need both the \"__metaclass__\" and the \"@abstractmethod\" decorator to prevent creation of Vehicle"
   ]
  },
  {
   "cell_type": "code",
   "execution_count": 1,
   "metadata": {
    "collapsed": false
   },
   "outputs": [],
   "source": [
    "from abc import ABCMeta, abstractmethod\n",
    "\n",
    "class Vehicle(object):\n",
    "    __metaclass__ = ABCMeta\n",
    "    wheels = 0\n",
    "\n",
    "    def __init__(self, miles, make, model, year, sold_on):\n",
    "        self.miles = miles\n",
    "        self.make = make\n",
    "        self.model = model\n",
    "        self.year = year\n",
    "        self.sold_on = sold_on\n",
    "\n",
    "    def sale_price(self):\n",
    "        if self.sold_on is not None:           # already sold?\n",
    "            return 0.0\n",
    "        return 5000.0 * self.wheels\n",
    "\n",
    "    def purchase_price(self):\n",
    "        if self.sold_on is None:               # already sold?\n",
    "            return 0.0\n",
    "        return self.base_sale_price - (.10 * self.miles)\n",
    "\n",
    "    @abstractmethod\n",
    "    def vehicle_type():\n",
    "        \"\"\"\"Return a string representing the type of vehicle this is.\"\"\"\n",
    "        pass"
   ]
  },
  {
   "cell_type": "code",
   "execution_count": 2,
   "metadata": {
    "collapsed": true
   },
   "outputs": [],
   "source": [
    "class Car(Vehicle):\n",
    "    base_sale_price = 8000\n",
    "    wheels = 4\n",
    "\n",
    "    def vehicle_type(self):\n",
    "        return 'car'"
   ]
  },
  {
   "cell_type": "markdown",
   "metadata": {},
   "source": [
    "#### If you comment out the \"Vehicle_type\" method from Truck, with \"@abstractmethod\", then you won't be able to create a Truck"
   ]
  },
  {
   "cell_type": "code",
   "execution_count": 3,
   "metadata": {
    "collapsed": true
   },
   "outputs": [],
   "source": [
    "class Truck(Vehicle):\n",
    "    base_sale_price = 10000\n",
    "    wheels = 4\n",
    "\n",
    "    def vehicle_type(self):\n",
    "        return 'truck'"
   ]
  },
  {
   "cell_type": "code",
   "execution_count": 4,
   "metadata": {
    "collapsed": true
   },
   "outputs": [],
   "source": [
    "C1 = Car(0, \"Tesla\", \"60S\", 2016, 2)"
   ]
  },
  {
   "cell_type": "code",
   "execution_count": 5,
   "metadata": {
    "collapsed": false
   },
   "outputs": [],
   "source": [
    "T1 = Truck(0, \"Ford\", \"F150\", 2016, 2)"
   ]
  },
  {
   "cell_type": "markdown",
   "metadata": {},
   "source": [
    "#### Check what kind of object you have. Works for both base and instance classes"
   ]
  },
  {
   "cell_type": "code",
   "execution_count": 6,
   "metadata": {
    "collapsed": false
   },
   "outputs": [
    {
     "name": "stdout",
     "output_type": "stream",
     "text": [
      "False\n"
     ]
    }
   ],
   "source": [
    "if isinstance(C1, Truck):           # Set to \"Car\" and it will be True; \"Truck\" will be False\n",
    "    print(\"True\")\n",
    "else:\n",
    "    print(\"False\")"
   ]
  },
  {
   "cell_type": "markdown",
   "metadata": {},
   "source": [
    "#### This part is for testing whether Vehicle is an abstract class, i.e. can it be created\n",
    "### You mess with it by commenting and uncommenting @abstractmethod and __metaclass__"
   ]
  },
  {
   "cell_type": "code",
   "execution_count": 7,
   "metadata": {
    "collapsed": false
   },
   "outputs": [],
   "source": [
    "X = Vehicle(0, \"Tesla\", \"60S\", 2016, 2)"
   ]
  },
  {
   "cell_type": "code",
   "execution_count": 8,
   "metadata": {
    "collapsed": false
   },
   "outputs": [
    {
     "data": {
      "text/plain": [
       "'60S'"
      ]
     },
     "execution_count": 8,
     "metadata": {},
     "output_type": "execute_result"
    }
   ],
   "source": [
    "X.model"
   ]
  }
 ],
 "metadata": {
  "kernelspec": {
   "display_name": "Python 2",
   "language": "python",
   "name": "python2"
  },
  "language_info": {
   "codemirror_mode": {
    "name": "ipython",
    "version": 2
   },
   "file_extension": ".py",
   "mimetype": "text/x-python",
   "name": "python",
   "nbconvert_exporter": "python",
   "pygments_lexer": "ipython2",
   "version": "2.7.11"
  }
 },
 "nbformat": 4,
 "nbformat_minor": 0
}
