{
 "cells": [
  {
   "cell_type": "markdown",
   "metadata": {},
   "source": [
    "### Static Methods\n",
    "I couldn't get this to wo"
   ]
  },
  {
   "cell_type": "code",
   "execution_count": 1,
   "metadata": {
    "collapsed": true
   },
   "outputs": [],
   "source": [
    "class Dog:\n",
    "    count = 0\n",
    "    dogs = []\n",
    "\n",
    "    def __init__(self, name):\n",
    "        self.name = name\n",
    "        Dog.count += 1\n",
    "        Dog.dogs.append(name)\n",
    "\n",
    "    def bark(self, n):\n",
    "        print(\"{} says: {}\".format(self.name, \"woof! \" * n))\n",
    "\n",
    "    @staticmethod\n",
    "    def rollCall(n):\n",
    "        print(\"There are {} dogs.\".format(Dog.count))\n",
    "        if n >= len(Dog.dogs) or n < 0:\n",
    "            print(\"They are:\")\n",
    "            for dog in Dog.dogs:\n",
    "                print(\"  {}\".format(dog))\n",
    "        else:\n",
    "            print(\"The dog indexed at {} is {}.\".format(n, Dog.dogs[n]))"
   ]
  },
  {
   "cell_type": "code",
   "execution_count": 2,
   "metadata": {
    "collapsed": false
   },
   "outputs": [
    {
     "name": "stdout",
     "output_type": "stream",
     "text": [
      "Fido says: woof! woof! woof! \n"
     ]
    }
   ],
   "source": [
    "fido = Dog(\"Fido\")\n",
    "fido.bark(3)"
   ]
  },
  {
   "cell_type": "code",
   "execution_count": 4,
   "metadata": {
    "collapsed": false
   },
   "outputs": [
    {
     "name": "stdout",
     "output_type": "stream",
     "text": [
      "There are 1 dogs.\n",
      "They are:\n",
      "  Fido\n"
     ]
    }
   ],
   "source": [
    "Dog.rollCall(-1)"
   ]
  },
  {
   "cell_type": "code",
   "execution_count": null,
   "metadata": {
    "collapsed": false
   },
   "outputs": [],
   "source": [
    "rex = Dog(\"Rex\")\n",
    "Dog.rollCall(0)"
   ]
  },
  {
   "cell_type": "code",
   "execution_count": null,
   "metadata": {
    "collapsed": false
   },
   "outputs": [],
   "source": [
    "rex.rollCall(-1)"
   ]
  },
  {
   "cell_type": "markdown",
   "metadata": {
    "collapsed": true
   },
   "source": [
    "### New-style Classes"
   ]
  },
  {
   "cell_type": "code",
   "execution_count": 4,
   "metadata": {
    "collapsed": true
   },
   "outputs": [],
   "source": [
    "class C:\n",
    "\n",
    "    def foo(x, y):\n",
    "        print \"staticmethod\", x, y\n",
    "    foo = staticmethod(foo)"
   ]
  },
  {
   "cell_type": "code",
   "execution_count": 5,
   "metadata": {
    "collapsed": false
   },
   "outputs": [
    {
     "name": "stdout",
     "output_type": "stream",
     "text": [
      "staticmethod 1 2\n"
     ]
    }
   ],
   "source": [
    "C.foo(1, 2)"
   ]
  },
  {
   "cell_type": "code",
   "execution_count": 6,
   "metadata": {
    "collapsed": false
   },
   "outputs": [
    {
     "name": "stdout",
     "output_type": "stream",
     "text": [
      "staticmethod 1 2\n"
     ]
    }
   ],
   "source": [
    "c = C()\n",
    "c.foo(1, 2)"
   ]
  },
  {
   "cell_type": "code",
   "execution_count": null,
   "metadata": {
    "collapsed": true
   },
   "outputs": [],
   "source": []
  }
 ],
 "metadata": {
  "kernelspec": {
   "display_name": "Python 2",
   "language": "python",
   "name": "python2"
  },
  "language_info": {
   "codemirror_mode": {
    "name": "ipython",
    "version": 2
   },
   "file_extension": ".py",
   "mimetype": "text/x-python",
   "name": "python",
   "nbconvert_exporter": "python",
   "pygments_lexer": "ipython2",
   "version": "2.7.11"
  }
 },
 "nbformat": 4,
 "nbformat_minor": 0
}
