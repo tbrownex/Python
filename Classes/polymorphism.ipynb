{
 "cells": [
  {
   "cell_type": "code",
   "execution_count": 2,
   "metadata": {
    "collapsed": true
   },
   "outputs": [],
   "source": [
    "class Room:\n",
    "    def __init__(self, door):\n",
    "        self.door = door\n",
    "\n",
    "    def open(self):\n",
    "        self.door.open()\n",
    "\n",
    "    def close(self):\n",
    "        self.door.close()\n",
    "\n",
    "    def is_open(self):\n",
    "        return self.door.is_open()"
   ]
  },
  {
   "cell_type": "code",
   "execution_count": 3,
   "metadata": {
    "collapsed": true
   },
   "outputs": [],
   "source": [
    "class Door:\n",
    "    def __init__(self):\n",
    "        self.status = \"closed\"\n",
    "\n",
    "    def open(self):\n",
    "        self.status = \"open\"\n",
    "\n",
    "    def close(self):\n",
    "        self.status = \"closed\"\n",
    "\n",
    "    def is_open(self):\n",
    "        return self.status == \"open\""
   ]
  },
  {
   "cell_type": "code",
   "execution_count": 4,
   "metadata": {
    "collapsed": true
   },
   "outputs": [],
   "source": [
    "class BooleanDoor:\n",
    "    def __init__(self):\n",
    "        self.status = True\n",
    "\n",
    "    def open(self):\n",
    "        self.status = True\n",
    "\n",
    "    def close(self):\n",
    "        self.status = False\n",
    "\n",
    "    def is_open(self):\n",
    "        return self.status"
   ]
  },
  {
   "cell_type": "code",
   "execution_count": 5,
   "metadata": {
    "collapsed": true
   },
   "outputs": [],
   "source": [
    "door = Door()\n",
    "bool_door = BooleanDoor()\n",
    "room = Room(door)\n",
    "bool_room = Room(bool_door)"
   ]
  },
  {
   "cell_type": "code",
   "execution_count": 6,
   "metadata": {
    "collapsed": false
   },
   "outputs": [
    {
     "data": {
      "text/plain": [
       "True"
      ]
     },
     "execution_count": 6,
     "metadata": {},
     "output_type": "execute_result"
    }
   ],
   "source": [
    "room.open()\n",
    "room.is_open()"
   ]
  },
  {
   "cell_type": "code",
   "execution_count": 7,
   "metadata": {
    "collapsed": false
   },
   "outputs": [
    {
     "data": {
      "text/plain": [
       "False"
      ]
     },
     "execution_count": 7,
     "metadata": {},
     "output_type": "execute_result"
    }
   ],
   "source": [
    "room.close()\n",
    "room.is_open()"
   ]
  },
  {
   "cell_type": "code",
   "execution_count": 9,
   "metadata": {
    "collapsed": false
   },
   "outputs": [
    {
     "data": {
      "text/plain": [
       "True"
      ]
     },
     "execution_count": 9,
     "metadata": {},
     "output_type": "execute_result"
    }
   ],
   "source": [
    "bool_room.open()\n",
    "bool_room.is_open()"
   ]
  },
  {
   "cell_type": "code",
   "execution_count": 10,
   "metadata": {
    "collapsed": false
   },
   "outputs": [
    {
     "data": {
      "text/plain": [
       "False"
      ]
     },
     "execution_count": 10,
     "metadata": {},
     "output_type": "execute_result"
    }
   ],
   "source": [
    "bool_room.close()\n",
    "bool_room.is_open()"
   ]
  },
  {
   "cell_type": "code",
   "execution_count": null,
   "metadata": {
    "collapsed": true
   },
   "outputs": [],
   "source": []
  }
 ],
 "metadata": {
  "kernelspec": {
   "display_name": "Python 2",
   "language": "python",
   "name": "python2"
  },
  "language_info": {
   "codemirror_mode": {
    "name": "ipython",
    "version": 2
   },
   "file_extension": ".py",
   "mimetype": "text/x-python",
   "name": "python",
   "nbconvert_exporter": "python",
   "pygments_lexer": "ipython2",
   "version": "2.7.11"
  }
 },
 "nbformat": 4,
 "nbformat_minor": 0
}
