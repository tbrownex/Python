{
 "cells": [
  {
   "cell_type": "markdown",
   "metadata": {},
   "source": [
    "### generic factory implementation."
   ]
  },
  {
   "cell_type": "code",
   "execution_count": null,
   "metadata": {
    "collapsed": true
   },
   "outputs": [],
   "source": [
    "class Factory:      \n",
    "    def register(self, methodName, constructor, *args, **kargs):\n",
    "        \"\"\"register a constructor\"\"\"\n",
    "        _args = [constructor]\n",
    "        _args.extend(args)\n",
    "        setattr(self, methodName,apply(Functor,_args, kargs))\n",
    "        \n",
    "    def unregister(self, methodName):\n",
    "        \"\"\"unregister a constructor\"\"\"\n",
    "        delattr(self, methodName)"
   ]
  },
  {
   "cell_type": "code",
   "execution_count": null,
   "metadata": {
    "collapsed": true
   },
   "outputs": [],
   "source": [
    "class Functor:\n",
    "    def __init__(self, function, *args, **kargs):\n",
    "        assert callable(function), \"function should be a callable obj\"\n",
    "        self._function = function\n",
    "        self._args = args\n",
    "        self._kargs = kargs\n",
    "        \n",
    "    def __call__(self, *args, **kargs):\n",
    "        \"\"\"call function\"\"\"\n",
    "        _args = list(self._args)\n",
    "        _args.extend(args)\n",
    "        _kargs = self._kargs.copy()\n",
    "        _kargs.update(kargs)\n",
    "        return apply(self._function,_args,_kargs)"
   ]
  }
 ],
 "metadata": {
  "kernelspec": {
   "display_name": "Python 3",
   "language": "python",
   "name": "python3"
  },
  "language_info": {
   "codemirror_mode": {
    "name": "ipython",
    "version": 3
   },
   "file_extension": ".py",
   "mimetype": "text/x-python",
   "name": "python",
   "nbconvert_exporter": "python",
   "pygments_lexer": "ipython3",
   "version": "3.5.2"
  }
 },
 "nbformat": 4,
 "nbformat_minor": 1
}
