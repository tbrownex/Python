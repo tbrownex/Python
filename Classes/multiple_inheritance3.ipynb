{
 "cells": [
  {
   "cell_type": "markdown",
   "metadata": {},
   "source": [
    "### Use of \"super\""
   ]
  },
  {
   "cell_type": "code",
   "execution_count": 1,
   "metadata": {
    "collapsed": true
   },
   "outputs": [],
   "source": [
    "class DoughFactory(object):\n",
    "    def get_dough(self):\n",
    "        return \"Treated with insecticide\"\n",
    "\n",
    "class Pizza(DoughFactory):\n",
    "    def order_pizza(self, *toppings):\n",
    "        dough = super(Pizza, self).get_dough()        # Using \"super\"\n",
    "        #dough = DoughFactory.get_dough(self)         # Specify the base class explicitly\n",
    "        print(\"got the flour: {}\").format(dough)\n",
    "        for x in toppings:\n",
    "            print x\n",
    "        "
   ]
  },
  {
   "cell_type": "code",
   "execution_count": 2,
   "metadata": {
    "collapsed": true
   },
   "outputs": [],
   "source": [
    "class OrganicDoughFactory(object):\n",
    "    def get_dough(self):\n",
    "        return \"Organic\"\n",
    "    \n",
    "class OrganicPizza(Pizza, OrganicDoughFactory):\n",
    "    pass"
   ]
  },
  {
   "cell_type": "markdown",
   "metadata": {},
   "source": [
    "#### In this case, super is going to invoke \"DoughFactory\""
   ]
  },
  {
   "cell_type": "code",
   "execution_count": 3,
   "metadata": {
    "collapsed": false
   },
   "outputs": [
    {
     "name": "stdout",
     "output_type": "stream",
     "text": [
      "got the flour: Treated with insecticide\n",
      "sausage\n",
      "green peppar\n"
     ]
    }
   ],
   "source": [
    "Pizza().order_pizza(\"sausage\", \"green peppar\")"
   ]
  },
  {
   "cell_type": "markdown",
   "metadata": {},
   "source": [
    "#### In this case, super invokes OrganicPizza because that is the parent of the child"
   ]
  },
  {
   "cell_type": "code",
   "execution_count": 4,
   "metadata": {
    "collapsed": false
   },
   "outputs": [
    {
     "name": "stdout",
     "output_type": "stream",
     "text": [
      "got the flour: Treated with insecticide\n",
      "green pepper\n",
      "mushroom\n"
     ]
    }
   ],
   "source": [
    "OrganicPizza().order_pizza(\"green pepper\", \"mushroom\")"
   ]
  },
  {
   "cell_type": "code",
   "execution_count": null,
   "metadata": {
    "collapsed": true
   },
   "outputs": [],
   "source": []
  }
 ],
 "metadata": {
  "kernelspec": {
   "display_name": "Python 2",
   "language": "python",
   "name": "python2"
  },
  "language_info": {
   "codemirror_mode": {
    "name": "ipython",
    "version": 2
   },
   "file_extension": ".py",
   "mimetype": "text/x-python",
   "name": "python",
   "nbconvert_exporter": "python",
   "pygments_lexer": "ipython2",
   "version": "2.7.11"
  }
 },
 "nbformat": 4,
 "nbformat_minor": 0
}
