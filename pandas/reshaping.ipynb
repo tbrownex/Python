{
 "cells": [
  {
   "cell_type": "code",
   "execution_count": 1,
   "metadata": {
    "collapsed": true
   },
   "outputs": [],
   "source": [
    "# GroupBy and Pivot\n",
    "import pandas as pd\n",
    "import numpy as np"
   ]
  },
  {
   "cell_type": "code",
   "execution_count": 2,
   "metadata": {},
   "outputs": [
    {
     "data": {
      "text/html": [
       "<div>\n",
       "<table border=\"1\" class=\"dataframe\">\n",
       "  <thead>\n",
       "    <tr style=\"text-align: right;\">\n",
       "      <th></th>\n",
       "      <th>Group</th>\n",
       "      <th>Treatment</th>\n",
       "      <th>Replicate</th>\n",
       "      <th>RelativeFitness</th>\n",
       "    </tr>\n",
       "  </thead>\n",
       "  <tbody>\n",
       "    <tr>\n",
       "      <th>0</th>\n",
       "      <td>BKB</td>\n",
       "      <td>Tube</td>\n",
       "      <td>1</td>\n",
       "      <td>0.869963</td>\n",
       "    </tr>\n",
       "    <tr>\n",
       "      <th>1</th>\n",
       "      <td>BKB</td>\n",
       "      <td>Tube</td>\n",
       "      <td>2</td>\n",
       "      <td>1.000363</td>\n",
       "    </tr>\n",
       "    <tr>\n",
       "      <th>2</th>\n",
       "      <td>BKB</td>\n",
       "      <td>Tube</td>\n",
       "      <td>3</td>\n",
       "      <td>0.982935</td>\n",
       "    </tr>\n",
       "    <tr>\n",
       "      <th>3</th>\n",
       "      <td>BAC</td>\n",
       "      <td>Tube</td>\n",
       "      <td>1</td>\n",
       "      <td>0.810392</td>\n",
       "    </tr>\n",
       "    <tr>\n",
       "      <th>4</th>\n",
       "      <td>BAC</td>\n",
       "      <td>Tube</td>\n",
       "      <td>2</td>\n",
       "      <td>0.795107</td>\n",
       "    </tr>\n",
       "    <tr>\n",
       "      <th>5</th>\n",
       "      <td>JDK</td>\n",
       "      <td>Tube</td>\n",
       "      <td>1</td>\n",
       "      <td>0.849204</td>\n",
       "    </tr>\n",
       "    <tr>\n",
       "      <th>6</th>\n",
       "      <td>JDK</td>\n",
       "      <td>Tube</td>\n",
       "      <td>2</td>\n",
       "      <td>0.917637</td>\n",
       "    </tr>\n",
       "    <tr>\n",
       "      <th>7</th>\n",
       "      <td>JDK</td>\n",
       "      <td>Tube</td>\n",
       "      <td>3</td>\n",
       "      <td>0.905323</td>\n",
       "    </tr>\n",
       "    <tr>\n",
       "      <th>8</th>\n",
       "      <td>ETH</td>\n",
       "      <td>Tube</td>\n",
       "      <td>1</td>\n",
       "      <td>0.930821</td>\n",
       "    </tr>\n",
       "    <tr>\n",
       "      <th>9</th>\n",
       "      <td>ETH</td>\n",
       "      <td>Tube</td>\n",
       "      <td>2</td>\n",
       "      <td>0.958183</td>\n",
       "    </tr>\n",
       "  </tbody>\n",
       "</table>\n",
       "</div>"
      ],
      "text/plain": [
       "  Group Treatment  Replicate  RelativeFitness\n",
       "0   BKB      Tube          1         0.869963\n",
       "1   BKB      Tube          2         1.000363\n",
       "2   BKB      Tube          3         0.982935\n",
       "3   BAC      Tube          1         0.810392\n",
       "4   BAC      Tube          2         0.795107\n",
       "5   JDK      Tube          1         0.849204\n",
       "6   JDK      Tube          2         0.917637\n",
       "7   JDK      Tube          3         0.905323\n",
       "8   ETH      Tube          1         0.930821\n",
       "9   ETH      Tube          2         0.958183"
      ]
     },
     "execution_count": 2,
     "metadata": {},
     "output_type": "execute_result"
    }
   ],
   "source": [
    "data = pd.read_csv('d:\\Data\\Python\\TradeoffData.csv')\n",
    "data.head(n=10)"
   ]
  },
  {
   "cell_type": "code",
   "execution_count": 3,
   "metadata": {},
   "outputs": [
    {
     "data": {
      "text/plain": [
       "Treatment       \n",
       "Dish       count    32.000000\n",
       "           mean      1.456359\n",
       "           std       0.184792\n",
       "           min       0.955221\n",
       "           25%       1.429005\n",
       "           50%       1.510884\n",
       "           75%       1.581340\n",
       "           max       1.699276\n",
       "Tube       count    32.000000\n",
       "           mean      0.929589\n",
       "           std       0.050153\n",
       "           min       0.795107\n",
       "           25%       0.915050\n",
       "           50%       0.939089\n",
       "           75%       0.953505\n",
       "           max       1.000363\n",
       "dtype: float64"
      ]
     },
     "execution_count": 3,
     "metadata": {},
     "output_type": "execute_result"
    }
   ],
   "source": [
    "# Create a \"Group\" object\n",
    "bytreatment = data.groupby('Treatment')\n",
    "# This will show statistics of the Relative Fitness column, grouped by Treatment\n",
    "bytreatment['RelativeFitness'].describe()"
   ]
  },
  {
   "cell_type": "code",
   "execution_count": 4,
   "metadata": {},
   "outputs": [
    {
     "data": {
      "text/plain": [
       "Group  Treatment       \n",
       "BAC    Dish       count    2.000000\n",
       "                  mean     1.633628\n",
       "                  std      0.026313\n",
       "                  min      1.615022\n",
       "                  25%      1.624325\n",
       "                  50%      1.633628\n",
       "                  75%      1.642931\n",
       "                  max      1.652234\n",
       "       Tube       count    2.000000\n",
       "                  mean     0.802749\n",
       "                  std      0.010808\n",
       "                  min      0.795107\n",
       "                  25%      0.798928\n",
       "                  50%      0.802749\n",
       "                  75%      0.806570\n",
       "                  max      0.810392\n",
       "BKB    Dish       count    3.000000\n",
       "                  mean     1.315682\n",
       "                  std      0.179156\n",
       "                  min      1.152544\n",
       "                  25%      1.219815\n",
       "                  50%      1.287085\n",
       "                  75%      1.397250\n",
       "                  max      1.507415\n",
       "       Tube       count    3.000000\n",
       "                  mean     0.951087\n",
       "                  std      0.070794\n",
       "                  min      0.869963\n",
       "                  25%      0.926449\n",
       "                  50%      0.982935\n",
       "                             ...   \n",
       "PPP    Dish       std      0.036531\n",
       "                  min      1.508969\n",
       "                  25%      1.531269\n",
       "                  50%      1.553568\n",
       "                  75%      1.567477\n",
       "                  max      1.581386\n",
       "       Tube       count    3.000000\n",
       "                  mean     0.970277\n",
       "                  std      0.020897\n",
       "                  min      0.948767\n",
       "                  25%      0.960166\n",
       "                  50%      0.971565\n",
       "                  75%      0.981033\n",
       "                  max      0.990500\n",
       "SWI    Dish       count    3.000000\n",
       "                  mean     1.451796\n",
       "                  std      0.079652\n",
       "                  min      1.362556\n",
       "                  25%      1.419848\n",
       "                  50%      1.477141\n",
       "                  75%      1.496417\n",
       "                  max      1.515692\n",
       "       Tube       count    3.000000\n",
       "                  mean     0.918647\n",
       "                  std      0.009692\n",
       "                  min      0.909023\n",
       "                  25%      0.913768\n",
       "                  50%      0.918514\n",
       "                  75%      0.923459\n",
       "                  max      0.928405\n",
       "dtype: float64"
      ]
     },
     "execution_count": 4,
     "metadata": {},
     "output_type": "execute_result"
    }
   ],
   "source": [
    "# Group By two columns\n",
    "bygroup_treatment = data.groupby(['Group', 'Treatment'])\n",
    "bygroup_treatment['RelativeFitness'].describe()"
   ]
  },
  {
   "cell_type": "code",
   "execution_count": 5,
   "metadata": {},
   "outputs": [
    {
     "data": {
      "text/html": [
       "<div>\n",
       "<table border=\"1\" class=\"dataframe\">\n",
       "  <thead>\n",
       "    <tr style=\"text-align: right;\">\n",
       "      <th></th>\n",
       "      <th>total_bill</th>\n",
       "      <th>tip</th>\n",
       "      <th>sex</th>\n",
       "      <th>smoker</th>\n",
       "      <th>day</th>\n",
       "      <th>time</th>\n",
       "      <th>size</th>\n",
       "    </tr>\n",
       "  </thead>\n",
       "  <tbody>\n",
       "    <tr>\n",
       "      <th>0</th>\n",
       "      <td>16.99</td>\n",
       "      <td>1.01</td>\n",
       "      <td>Female</td>\n",
       "      <td>No</td>\n",
       "      <td>Sun</td>\n",
       "      <td>Dinner</td>\n",
       "      <td>2</td>\n",
       "    </tr>\n",
       "    <tr>\n",
       "      <th>1</th>\n",
       "      <td>10.34</td>\n",
       "      <td>1.66</td>\n",
       "      <td>Male</td>\n",
       "      <td>No</td>\n",
       "      <td>Sun</td>\n",
       "      <td>Dinner</td>\n",
       "      <td>3</td>\n",
       "    </tr>\n",
       "    <tr>\n",
       "      <th>2</th>\n",
       "      <td>21.01</td>\n",
       "      <td>3.50</td>\n",
       "      <td>Male</td>\n",
       "      <td>No</td>\n",
       "      <td>Sun</td>\n",
       "      <td>Dinner</td>\n",
       "      <td>3</td>\n",
       "    </tr>\n",
       "    <tr>\n",
       "      <th>3</th>\n",
       "      <td>23.68</td>\n",
       "      <td>3.31</td>\n",
       "      <td>Male</td>\n",
       "      <td>No</td>\n",
       "      <td>Sun</td>\n",
       "      <td>Dinner</td>\n",
       "      <td>2</td>\n",
       "    </tr>\n",
       "    <tr>\n",
       "      <th>4</th>\n",
       "      <td>24.59</td>\n",
       "      <td>3.61</td>\n",
       "      <td>Female</td>\n",
       "      <td>No</td>\n",
       "      <td>Sun</td>\n",
       "      <td>Dinner</td>\n",
       "      <td>4</td>\n",
       "    </tr>\n",
       "  </tbody>\n",
       "</table>\n",
       "</div>"
      ],
      "text/plain": [
       "   total_bill   tip     sex smoker  day    time  size\n",
       "0       16.99  1.01  Female     No  Sun  Dinner     2\n",
       "1       10.34  1.66    Male     No  Sun  Dinner     3\n",
       "2       21.01  3.50    Male     No  Sun  Dinner     3\n",
       "3       23.68  3.31    Male     No  Sun  Dinner     2\n",
       "4       24.59  3.61  Female     No  Sun  Dinner     4"
      ]
     },
     "execution_count": 5,
     "metadata": {},
     "output_type": "execute_result"
    }
   ],
   "source": [
    "tips = pd.read_csv('D:\\\\Data\\\\Python\\\\tips.csv')\n",
    "tips.head()"
   ]
  },
  {
   "cell_type": "code",
   "execution_count": 6,
   "metadata": {},
   "outputs": [
    {
     "name": "stdout",
     "output_type": "stream",
     "text": [
      "sex          Female    Male\n",
      "day  time                  \n",
      "Fri  Dinner   14.05   21.23\n",
      "     Lunch    10.98    5.70\n",
      "Sat  Dinner   78.45  181.95\n",
      "Sun  Dinner   60.61  186.78\n",
      "Thur Dinner    3.00       0\n",
      "     Lunch    79.42   89.41\n"
     ]
    }
   ],
   "source": [
    "table = pd.pivot_table(tips, values='tip', index=['day', 'time'], columns='sex', aggfunc=np.sum)\n",
    "print(table.to_string(na_rep='0'))"
   ]
  },
  {
   "cell_type": "markdown",
   "metadata": {},
   "source": [
    "### Transform"
   ]
  },
  {
   "cell_type": "code",
   "execution_count": 8,
   "metadata": {},
   "outputs": [
    {
     "data": {
      "text/html": [
       "<div>\n",
       "<table border=\"1\" class=\"dataframe\">\n",
       "  <thead>\n",
       "    <tr style=\"text-align: right;\">\n",
       "      <th></th>\n",
       "      <th>0</th>\n",
       "      <th>1</th>\n",
       "      <th>2</th>\n",
       "      <th>3</th>\n",
       "      <th>4</th>\n",
       "      <th>5</th>\n",
       "      <th>6</th>\n",
       "      <th>7</th>\n",
       "      <th>8</th>\n",
       "      <th>9</th>\n",
       "    </tr>\n",
       "  </thead>\n",
       "  <tbody>\n",
       "    <tr>\n",
       "      <th>A</th>\n",
       "      <td>1.053657</td>\n",
       "      <td>-0.232813</td>\n",
       "      <td>0.839403</td>\n",
       "      <td>-2.696867</td>\n",
       "      <td>-0.625524</td>\n",
       "      <td>-2.196237</td>\n",
       "      <td>0.839403</td>\n",
       "      <td>-1.088788</td>\n",
       "      <td>0.839403</td>\n",
       "      <td>2.140899</td>\n",
       "    </tr>\n",
       "    <tr>\n",
       "      <th>B</th>\n",
       "      <td>1.046599</td>\n",
       "      <td>0.448871</td>\n",
       "      <td>1.650686</td>\n",
       "      <td>-0.134224</td>\n",
       "      <td>-2.071708</td>\n",
       "      <td>-0.290021</td>\n",
       "      <td>1.650686</td>\n",
       "      <td>-0.061951</td>\n",
       "      <td>1.650686</td>\n",
       "      <td>0.683533</td>\n",
       "    </tr>\n",
       "  </tbody>\n",
       "</table>\n",
       "</div>"
      ],
      "text/plain": [
       "          0         1         2         3         4         5         6  \\\n",
       "A  1.053657 -0.232813  0.839403 -2.696867 -0.625524 -2.196237  0.839403   \n",
       "B  1.046599  0.448871  1.650686 -0.134224 -2.071708 -0.290021  1.650686   \n",
       "\n",
       "          7         8         9  \n",
       "A -1.088788  0.839403  2.140899  \n",
       "B -0.061951  1.650686  0.683533  "
      ]
     },
     "execution_count": 8,
     "metadata": {},
     "output_type": "execute_result"
    }
   ],
   "source": [
    "df_B = pd.DataFrame()\n",
    "for x in range(10):\n",
    "    df_B[x] = df_A.ix[np.random.randint(10)]\n",
    "df_B"
   ]
  },
  {
   "cell_type": "code",
   "execution_count": 9,
   "metadata": {},
   "outputs": [
    {
     "data": {
      "text/html": [
       "<div>\n",
       "<table border=\"1\" class=\"dataframe\">\n",
       "  <thead>\n",
       "    <tr style=\"text-align: right;\">\n",
       "      <th></th>\n",
       "      <th>A</th>\n",
       "      <th>B</th>\n",
       "    </tr>\n",
       "  </thead>\n",
       "  <tbody>\n",
       "    <tr>\n",
       "      <th>0</th>\n",
       "      <td>1.053657</td>\n",
       "      <td>1.046599</td>\n",
       "    </tr>\n",
       "    <tr>\n",
       "      <th>1</th>\n",
       "      <td>-0.232813</td>\n",
       "      <td>0.448871</td>\n",
       "    </tr>\n",
       "    <tr>\n",
       "      <th>2</th>\n",
       "      <td>0.839403</td>\n",
       "      <td>1.650686</td>\n",
       "    </tr>\n",
       "    <tr>\n",
       "      <th>3</th>\n",
       "      <td>-2.696867</td>\n",
       "      <td>-0.134224</td>\n",
       "    </tr>\n",
       "    <tr>\n",
       "      <th>4</th>\n",
       "      <td>-0.625524</td>\n",
       "      <td>-2.071708</td>\n",
       "    </tr>\n",
       "    <tr>\n",
       "      <th>5</th>\n",
       "      <td>-2.196237</td>\n",
       "      <td>-0.290021</td>\n",
       "    </tr>\n",
       "    <tr>\n",
       "      <th>6</th>\n",
       "      <td>0.839403</td>\n",
       "      <td>1.650686</td>\n",
       "    </tr>\n",
       "    <tr>\n",
       "      <th>7</th>\n",
       "      <td>-1.088788</td>\n",
       "      <td>-0.061951</td>\n",
       "    </tr>\n",
       "    <tr>\n",
       "      <th>8</th>\n",
       "      <td>0.839403</td>\n",
       "      <td>1.650686</td>\n",
       "    </tr>\n",
       "    <tr>\n",
       "      <th>9</th>\n",
       "      <td>2.140899</td>\n",
       "      <td>0.683533</td>\n",
       "    </tr>\n",
       "  </tbody>\n",
       "</table>\n",
       "</div>"
      ],
      "text/plain": [
       "          A         B\n",
       "0  1.053657  1.046599\n",
       "1 -0.232813  0.448871\n",
       "2  0.839403  1.650686\n",
       "3 -2.696867 -0.134224\n",
       "4 -0.625524 -2.071708\n",
       "5 -2.196237 -0.290021\n",
       "6  0.839403  1.650686\n",
       "7 -1.088788 -0.061951\n",
       "8  0.839403  1.650686\n",
       "9  2.140899  0.683533"
      ]
     },
     "execution_count": 9,
     "metadata": {},
     "output_type": "execute_result"
    }
   ],
   "source": [
    "df_B.T"
   ]
  },
  {
   "cell_type": "markdown",
   "metadata": {},
   "source": [
    "## Melt function to go from wide and short to tall and skinny"
   ]
  },
  {
   "cell_type": "code",
   "execution_count": 10,
   "metadata": {},
   "outputs": [
    {
     "data": {
      "text/html": [
       "<div>\n",
       "<table border=\"1\" class=\"dataframe\">\n",
       "  <thead>\n",
       "    <tr style=\"text-align: right;\">\n",
       "      <th></th>\n",
       "      <th>A</th>\n",
       "      <th>B</th>\n",
       "      <th>C</th>\n",
       "    </tr>\n",
       "  </thead>\n",
       "  <tbody>\n",
       "    <tr>\n",
       "      <th>0</th>\n",
       "      <td>a</td>\n",
       "      <td>1</td>\n",
       "      <td>2</td>\n",
       "    </tr>\n",
       "    <tr>\n",
       "      <th>1</th>\n",
       "      <td>b</td>\n",
       "      <td>3</td>\n",
       "      <td>4</td>\n",
       "    </tr>\n",
       "    <tr>\n",
       "      <th>2</th>\n",
       "      <td>c</td>\n",
       "      <td>5</td>\n",
       "      <td>6</td>\n",
       "    </tr>\n",
       "  </tbody>\n",
       "</table>\n",
       "</div>"
      ],
      "text/plain": [
       "   A  B  C\n",
       "0  a  1  2\n",
       "1  b  3  4\n",
       "2  c  5  6"
      ]
     },
     "execution_count": 10,
     "metadata": {},
     "output_type": "execute_result"
    }
   ],
   "source": [
    "df = pd.DataFrame({'A': {0: 'a', 1: 'b', 2: 'c'}, 'B': {0: 1, 1: 3, 2: 5}, 'C': {0: 2, 1: 4, 2: 6}})\n",
    "df"
   ]
  },
  {
   "cell_type": "code",
   "execution_count": 12,
   "metadata": {},
   "outputs": [
    {
     "data": {
      "text/html": [
       "<div>\n",
       "<table border=\"1\" class=\"dataframe\">\n",
       "  <thead>\n",
       "    <tr style=\"text-align: right;\">\n",
       "      <th></th>\n",
       "      <th>A</th>\n",
       "      <th>variable</th>\n",
       "      <th>value</th>\n",
       "    </tr>\n",
       "  </thead>\n",
       "  <tbody>\n",
       "    <tr>\n",
       "      <th>0</th>\n",
       "      <td>a</td>\n",
       "      <td>B</td>\n",
       "      <td>1</td>\n",
       "    </tr>\n",
       "    <tr>\n",
       "      <th>1</th>\n",
       "      <td>b</td>\n",
       "      <td>B</td>\n",
       "      <td>3</td>\n",
       "    </tr>\n",
       "    <tr>\n",
       "      <th>2</th>\n",
       "      <td>c</td>\n",
       "      <td>B</td>\n",
       "      <td>5</td>\n",
       "    </tr>\n",
       "    <tr>\n",
       "      <th>3</th>\n",
       "      <td>a</td>\n",
       "      <td>C</td>\n",
       "      <td>2</td>\n",
       "    </tr>\n",
       "    <tr>\n",
       "      <th>4</th>\n",
       "      <td>b</td>\n",
       "      <td>C</td>\n",
       "      <td>4</td>\n",
       "    </tr>\n",
       "    <tr>\n",
       "      <th>5</th>\n",
       "      <td>c</td>\n",
       "      <td>C</td>\n",
       "      <td>6</td>\n",
       "    </tr>\n",
       "  </tbody>\n",
       "</table>\n",
       "</div>"
      ],
      "text/plain": [
       "   A variable  value\n",
       "0  a        B      1\n",
       "1  b        B      3\n",
       "2  c        B      5\n",
       "3  a        C      2\n",
       "4  b        C      4\n",
       "5  c        C      6"
      ]
     },
     "execution_count": 12,
     "metadata": {},
     "output_type": "execute_result"
    }
   ],
   "source": [
    "tom = pd.melt(df, id_vars=['A'], value_vars=['B', 'C'])\n",
    "tom"
   ]
  }
 ],
 "metadata": {
  "kernelspec": {
   "display_name": "Python 3",
   "language": "python",
   "name": "python3"
  },
  "language_info": {
   "codemirror_mode": {
    "name": "ipython",
    "version": 3
   },
   "file_extension": ".py",
   "mimetype": "text/x-python",
   "name": "python",
   "nbconvert_exporter": "python",
   "pygments_lexer": "ipython3",
   "version": "3.5.2"
  }
 },
 "nbformat": 4,
 "nbformat_minor": 1
}
